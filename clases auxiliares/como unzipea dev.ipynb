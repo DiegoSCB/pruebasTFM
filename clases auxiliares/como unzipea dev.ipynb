{
 "cells": [
  {
   "cell_type": "code",
   "execution_count": 1,
   "metadata": {
    "collapsed": true
   },
   "outputs": [],
   "source": [
    "import gzip\n",
    "import os\n",
    "import re\n",
    "import tarfile\n",
    "from tensorflow.python.platform import gfile\n",
    "import tensorflow as tf"
   ]
  },
  {
   "cell_type": "code",
   "execution_count": 9,
   "metadata": {
    "collapsed": true
   },
   "outputs": [],
   "source": [
    "from six.moves import urllib\n"
   ]
  },
  {
   "cell_type": "code",
   "execution_count": 7,
   "metadata": {
    "collapsed": true
   },
   "outputs": [],
   "source": [
    "_WMT_ENFR_DEV_URL= \"http://www.statmt.org/wmt15/dev-v2.tgz\"\n"
   ]
  },
  {
   "cell_type": "code",
   "execution_count": 5,
   "metadata": {
    "collapsed": true
   },
   "outputs": [],
   "source": [
    "def maybe_download(directory, filename, url):\n",
    "  #\"\"\"Download filename from url unless it's already in directory.\"\"\"\n",
    "    if not os.path.exists(directory):\n",
    "        print(\"Creating directory %s\" % directory)\n",
    "        os.mkdir(directory)\n",
    "    filepath = os.path.join(directory, filename)\n",
    "    if not os.path.exists(filepath):\n",
    "        print(\"Downloading %s to %s\" % (url, filepath))\n",
    "        filepath, _ = urllib.request.urlretrieve(url, filepath)\n",
    "        statinfo = os.stat(filepath)\n",
    "        print(\"Successfully downloaded\", filename, statinfo.st_size, \"bytes\")\n",
    "    return filepath"
   ]
  },
  {
   "cell_type": "code",
   "execution_count": 11,
   "metadata": {
    "collapsed": true
   },
   "outputs": [],
   "source": [
    "def get_wmt_enfr_dev_set(directory):\n",
    "  #\"\"\"Download the WMT en-fr training corpus to directory unless it's there.\"\"\"\n",
    "    dev_name = \"newstest2013\"\n",
    "    dev_path = os.path.join(directory, dev_name)\n",
    "    if not (gfile.Exists(dev_path + \".fr\") and gfile.Exists(dev_path + \".en\")):\n",
    "        dev_file = maybe_download(directory, \"dev-v2.tgz\", _WMT_ENFR_DEV_URL)\n",
    "        print(\"Extracting tgz file %s\" % dev_file)\n",
    "        with tarfile.open(dev_file, \"r:gz\") as dev_tar:\n",
    "            fr_dev_file = dev_tar.getmember(\"dev/\" + dev_name + \".fr\")\n",
    "            en_dev_file = dev_tar.getmember(\"dev/\" + dev_name + \".en\")\n",
    "            fr_dev_file.name = dev_name + \".fr\"  # Extract without \"dev/\" prefix.\n",
    "            en_dev_file.name = dev_name + \".en\"\n",
    "            dev_tar.extract(fr_dev_file, directory)\n",
    "            dev_tar.extract(en_dev_file, directory)\n",
    "            print('/////////////////////////////////////'+dev_path)\n",
    "    return dev_path"
   ]
  },
  {
   "cell_type": "code",
   "execution_count": 12,
   "metadata": {},
   "outputs": [
    {
     "name": "stdout",
     "output_type": "stream",
     "text": [
      "Downloading http://www.statmt.org/wmt15/dev-v2.tgz to C:/Users/Diego/Desktop/TFM/datasets/pruebatraductor\\dev-v2.tgz\n",
      "Successfully downloaded dev-v2.tgz 21393583 bytes\n",
      "Extracting tgz file C:/Users/Diego/Desktop/TFM/datasets/pruebatraductor\\dev-v2.tgz\n",
      "/////////////////////////////////////C:/Users/Diego/Desktop/TFM/datasets/pruebatraductor\\newstest2013\n"
     ]
    },
    {
     "data": {
      "text/plain": [
       "'C:/Users/Diego/Desktop/TFM/datasets/pruebatraductor\\\\newstest2013'"
      ]
     },
     "execution_count": 12,
     "metadata": {},
     "output_type": "execute_result"
    }
   ],
   "source": [
    "get_wmt_enfr_dev_set('C:/Users/Diego/Desktop/TFM/datasets/pruebatraductor')"
   ]
  }
 ],
 "metadata": {
  "kernelspec": {
   "display_name": "Python 3",
   "language": "python",
   "name": "python3"
  },
  "language_info": {
   "codemirror_mode": {
    "name": "ipython",
    "version": 3
   },
   "file_extension": ".py",
   "mimetype": "text/x-python",
   "name": "python",
   "nbconvert_exporter": "python",
   "pygments_lexer": "ipython3",
   "version": "3.6.1"
  }
 },
 "nbformat": 4,
 "nbformat_minor": 2
}
