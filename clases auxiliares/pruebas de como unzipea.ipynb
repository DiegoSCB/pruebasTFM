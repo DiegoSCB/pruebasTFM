{
 "cells": [
  {
   "cell_type": "code",
   "execution_count": 1,
   "metadata": {
    "collapsed": true
   },
   "outputs": [],
   "source": [
    "import gzip\n",
    "import os\n",
    "import re\n",
    "import tarfile"
   ]
  },
  {
   "cell_type": "code",
   "execution_count": 2,
   "metadata": {
    "collapsed": true
   },
   "outputs": [],
   "source": [
    "from tensorflow.python.platform import gfile"
   ]
  },
  {
   "cell_type": "code",
   "execution_count": 3,
   "metadata": {
    "collapsed": true
   },
   "outputs": [],
   "source": [
    "import tensorflow as tf"
   ]
  },
  {
   "cell_type": "code",
   "execution_count": 4,
   "metadata": {
    "collapsed": true
   },
   "outputs": [],
   "source": [
    "def gunzip_file(gz_path, new_path):\n",
    "  #\"\"\"Unzips from gz_path into new_path.\"\"\"\n",
    "    print(\"Unpacking %s to %s\" % (gz_path, new_path))\n",
    "    with gzip.open(gz_path, \"rb\") as gz_file:\n",
    "        with open(new_path, \"wb\") as new_file:\n",
    "            for line in gz_file:\n",
    "               \n",
    "                new_file.write(line)"
   ]
  },
  {
   "cell_type": "code",
   "execution_count": 5,
   "metadata": {
    "collapsed": true
   },
   "outputs": [],
   "source": [
    "def get_wmt_enfr_train_set(directory):\n",
    "  #\"\"\"Download the WMT en-fr training corpus to directory unless it's there.\"\"\"\n",
    "    train_path = os.path.join(directory, \"giga-fren.release2.fixed\")\n",
    "    if not (gfile.Exists(train_path +\".fr\") and gfile.Exists(train_path +\".en\")):\n",
    "        \n",
    "        corpus_file=\"C:/Users/Diego/Desktop/TFM/datasets/pruebatraductor/training-giga-fren.tar\"\n",
    "        print(\"Extracting tar file %s\" % corpus_file)\n",
    "        with tarfile.open(corpus_file, \"r\") as corpus_tar:\n",
    "            corpus_tar.extractall(directory)\n",
    "        gunzip_file(train_path + \".fr.gz\", train_path + \".fr\")\n",
    "        gunzip_file(train_path + \".en.gz\", train_path + \".en\")\n",
    "        print('//////////////////////////////////'+train_path)\n",
    "    return train_path"
   ]
  },
  {
   "cell_type": "code",
   "execution_count": 8,
   "metadata": {},
   "outputs": [
    {
     "name": "stdout",
     "output_type": "stream",
     "text": [
      "Extracting tar file C:/Users/Diego/Desktop/TFM/datasets/pruebatraductor/training-giga-fren.tar\n",
      "Unpacking C:/Users/Diego/Desktop/TFM/datasets/pruebatraductor\\giga-fren.release2.fixed.fr.gz to C:/Users/Diego/Desktop/TFM/datasets/pruebatraductor\\giga-fren.release2.fixed.fr\n",
      "Unpacking C:/Users/Diego/Desktop/TFM/datasets/pruebatraductor\\giga-fren.release2.fixed.en.gz to C:/Users/Diego/Desktop/TFM/datasets/pruebatraductor\\giga-fren.release2.fixed.en\n",
      "//////////////////////////////////C:/Users/Diego/Desktop/TFM/datasets/pruebatraductor\\giga-fren.release2.fixed\n"
     ]
    },
    {
     "data": {
      "text/plain": [
       "'C:/Users/Diego/Desktop/TFM/datasets/pruebatraductor\\\\giga-fren.release2.fixed'"
      ]
     },
     "execution_count": 8,
     "metadata": {},
     "output_type": "execute_result"
    }
   ],
   "source": [
    "get_wmt_enfr_train_set(\"C:/Users/Diego/Desktop/TFM/datasets/pruebatraductor\")"
   ]
  }
 ],
 "metadata": {
  "kernelspec": {
   "display_name": "Python 3",
   "language": "python",
   "name": "python3"
  },
  "language_info": {
   "codemirror_mode": {
    "name": "ipython",
    "version": 3
   },
   "file_extension": ".py",
   "mimetype": "text/x-python",
   "name": "python",
   "nbconvert_exporter": "python",
   "pygments_lexer": "ipython3",
   "version": "3.6.1"
  }
 },
 "nbformat": 4,
 "nbformat_minor": 2
}
