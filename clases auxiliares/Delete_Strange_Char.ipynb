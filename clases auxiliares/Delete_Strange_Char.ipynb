{
 "cells": [
  {
   "cell_type": "code",
   "execution_count": 1,
   "metadata": {
    "collapsed": true
   },
   "outputs": [],
   "source": [
    "import string\n",
    "import html"
   ]
  },
  {
   "cell_type": "code",
   "execution_count": 230,
   "metadata": {},
   "outputs": [],
   "source": [
    "text = open(\"C:/Users/Diego/Desktop/TFM/datasets/todojunto_sub/set_train_and_validationV2/text_in_lines_cleanV2.txt\",encoding=\"utf8\")"
   ]
  },
  {
   "cell_type": "code",
   "execution_count": null,
   "metadata": {
    "collapsed": true
   },
   "outputs": [],
   "source": [
    "text = open(\"C:/Users/Diego/Desktop/modificacion_datasets/vocab_mediano/vocab.en\",encoding=\"utf8\")"
   ]
  },
  {
   "cell_type": "code",
   "execution_count": 231,
   "metadata": {
    "collapsed": true
   },
   "outputs": [],
   "source": [
    "content = text.readlines()"
   ]
  },
  {
   "cell_type": "code",
   "execution_count": 232,
   "metadata": {
    "collapsed": true
   },
   "outputs": [],
   "source": [
    "newtext = open(\"C:/Users/Diego/Desktop/TFM/datasets/todojunto_sub/set_train_and_validationV2/text_in_lines_cleanV3.txt\",\"w\",encoding=\"utf8\")"
   ]
  },
  {
   "cell_type": "code",
   "execution_count": 37,
   "metadata": {
    "collapsed": true
   },
   "outputs": [],
   "source": [
    "# for line in content:\n",
    "#     cleaned_line =''.join(filter(lambda x: x in printable, i))\n",
    "#     newtext.write(cleaned_line)\n",
    "#     cleaned_line = \"\""
   ]
  },
  {
   "cell_type": "code",
   "execution_count": 233,
   "metadata": {
    "collapsed": true
   },
   "outputs": [],
   "source": [
    "strange_chars =[\"{\",\"}\",\"[\",\"]\",\" -\",\"- \",\"--\",\":\",\"*\",\"(\",\")\",\" --\",\"_\",\" _\",\"_ \",'\"',\"'\"]"
   ]
  },
  {
   "cell_type": "code",
   "execution_count": 234,
   "metadata": {
    "collapsed": true
   },
   "outputs": [],
   "source": [
    "for line in content:\n",
    "    aux_line = line.replace(\"&lt;\",\"\")\n",
    "    aux_line = aux_line.replace(\"&gt;\",\"\")\n",
    "    aux_line = aux_line.replace(\"&amp;\",\"\")\n",
    "    aux_line = aux_line.replace(\"#\",\"\")\n",
    "    aux_line = aux_line.replace(\"/\",\"\")\n",
    "    aux_line = aux_line.replace(\"/ i\",\"\")\n",
    "    aux_line = aux_line.replace(\"$\",\"\")\n",
    "    aux_line = aux_line.replace(\"{\",\"\")\n",
    "    aux_line = aux_line.replace(\"}\",\"\")\n",
    "    \n",
    "    if ((aux_line[0]==\"i\") or (aux_line[0] == \"-\")):\n",
    "        \n",
    "        aux_line.lstrip(\"i\")\n",
    "        aux_line.lstrip(\"-\")\n",
    "        \n",
    "    if ((aux_line[len(aux_line)-2]==\" \") and (aux_line[len(aux_line)-1]==\"i\")):\n",
    "        \n",
    "        aux_line.rstrip(\"i\")\n",
    "        \n",
    "        \n",
    "    aux_line = aux_line.lstrip()\n",
    "    result = ''.join([i for i in aux_line if not i.isdigit()])\n",
    "    result2 = ''.join([x for x in result if x not in strange_chars])\n",
    "    final_result = result2\n",
    "    if not(final_result==\"\"):\n",
    "        if not(final_result[0]==\".\"):\n",
    "            newtext.write(final_result)\n",
    "   "
   ]
  },
  {
   "cell_type": "code",
   "execution_count": 235,
   "metadata": {
    "collapsed": true
   },
   "outputs": [],
   "source": [
    "newtext.close()\n",
    "text.close()"
   ]
  },
  {
   "cell_type": "markdown",
   "metadata": {},
   "source": [
    "# Delete blank spaces"
   ]
  },
  {
   "cell_type": "code",
   "execution_count": 236,
   "metadata": {},
   "outputs": [],
   "source": [
    "text2 = open(\"C:/Users/Diego/Desktop/TFM/datasets/todojunto_sub/set_train_and_validationV2/text_in_lines_cleanV3.txt\",encoding=\"utf8\")"
   ]
  },
  {
   "cell_type": "code",
   "execution_count": 237,
   "metadata": {},
   "outputs": [],
   "source": [
    "content2 = text2.readlines()"
   ]
  },
  {
   "cell_type": "code",
   "execution_count": 238,
   "metadata": {
    "collapsed": true
   },
   "outputs": [],
   "source": [
    "newtext2 = open(\"C:/Users/Diego/Desktop/TFM/datasets/todojunto_sub/set_train_and_validationV2/text_in_lines_cleanV4.txt\",\"w\",encoding=\"utf8\")"
   ]
  },
  {
   "cell_type": "code",
   "execution_count": 239,
   "metadata": {
    "collapsed": true
   },
   "outputs": [],
   "source": [
    "for line in content2:\n",
    "    line = line.lstrip()\n",
    "    newtext2.write(line)"
   ]
  }
 ],
 "metadata": {
  "kernelspec": {
   "display_name": "Python 3",
   "language": "python",
   "name": "python3"
  },
  "language_info": {
   "codemirror_mode": {
    "name": "ipython",
    "version": 3
   },
   "file_extension": ".py",
   "mimetype": "text/x-python",
   "name": "python",
   "nbconvert_exporter": "python",
   "pygments_lexer": "ipython3",
   "version": "3.6.1"
  }
 },
 "nbformat": 4,
 "nbformat_minor": 2
}
