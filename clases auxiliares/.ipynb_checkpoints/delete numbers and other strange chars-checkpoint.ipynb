{
 "cells": [
  {
   "cell_type": "code",
   "execution_count": 2,
   "metadata": {
    "collapsed": true
   },
   "outputs": [],
   "source": [
    "#prueba = \"hoola123 esto es 134una 45pru34ba\""
   ]
  },
  {
   "cell_type": "code",
   "execution_count": 3,
   "metadata": {
    "collapsed": true
   },
   "outputs": [],
   "source": [
    "#result = ''.join([i for i in prueba if not i.isdigit()])"
   ]
  },
  {
   "cell_type": "code",
   "execution_count": 17,
   "metadata": {
    "collapsed": true
   },
   "outputs": [],
   "source": [
    "texto = open(\"C:/Users/Diego/Desktop/TFM/datasets/todojunto_sub/set_train_and_validationV2/text_in_lines_clean.txt\",encoding=\"utf8\")"
   ]
  },
  {
   "cell_type": "code",
   "execution_count": 18,
   "metadata": {},
   "outputs": [],
   "source": [
    "content = texto.readlines()"
   ]
  },
  {
   "cell_type": "code",
   "execution_count": 19,
   "metadata": {
    "collapsed": true
   },
   "outputs": [],
   "source": [
    "newtext = open(\"C:/Users/Diego/Desktop/TFM/datasets/todojunto_sub/set_train_and_validationV2/text_in_lines_cleanV2.txt\",\"w\",encoding=\"utf8\")"
   ]
  },
  {
   "cell_type": "code",
   "execution_count": 20,
   "metadata": {
    "collapsed": true
   },
   "outputs": [],
   "source": [
    "strange_chars =[\"{\",\"}\",\"[\",\"]\",\" -\",\"- \",\"--\",\":\",\"*\",\"(\",\")\"]"
   ]
  },
  {
   "cell_type": "code",
   "execution_count": 21,
   "metadata": {
    "collapsed": true
   },
   "outputs": [],
   "source": [
    "for line in content:\n",
    "    result = ''.join([i for i in line if not i.isdigit()])\n",
    "    result2 = ''.join([x for x in result if x not in strange_chars])\n",
    "    final_result = result2\n",
    "    newtext.write(final_result)"
   ]
  },
  {
   "cell_type": "code",
   "execution_count": 22,
   "metadata": {},
   "outputs": [],
   "source": [
    "texto.close()\n",
    "newtext.close()"
   ]
  }
 ],
 "metadata": {
  "kernelspec": {
   "display_name": "Python 3",
   "language": "python",
   "name": "python3"
  },
  "language_info": {
   "codemirror_mode": {
    "name": "ipython",
    "version": 3
   },
   "file_extension": ".py",
   "mimetype": "text/x-python",
   "name": "python",
   "nbconvert_exporter": "python",
   "pygments_lexer": "ipython3",
   "version": "3.6.1"
  }
 },
 "nbformat": 4,
 "nbformat_minor": 2
}
