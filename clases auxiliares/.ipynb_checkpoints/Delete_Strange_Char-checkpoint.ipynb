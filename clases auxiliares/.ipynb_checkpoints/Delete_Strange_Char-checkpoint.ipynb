{
 "cells": [
  {
   "cell_type": "code",
   "execution_count": 1,
   "metadata": {
    "collapsed": true
   },
   "outputs": [],
   "source": [
    "import string\n",
    "import html"
   ]
  },
  {
   "cell_type": "code",
   "execution_count": 2,
   "metadata": {
    "collapsed": true
   },
   "outputs": [],
   "source": [
    "printable = set(string.printable)"
   ]
  },
  {
   "cell_type": "code",
   "execution_count": 58,
   "metadata": {
    "collapsed": true
   },
   "outputs": [],
   "source": [
    "text = open(\"C:/Users/Diego/Desktop/modificacion_datasets/datasets_completos/train\",encoding=\"utf8\")"
   ]
  },
  {
   "cell_type": "code",
   "execution_count": 59,
   "metadata": {
    "collapsed": true
   },
   "outputs": [],
   "source": [
    "content = text.readlines()"
   ]
  },
  {
   "cell_type": "code",
   "execution_count": 60,
   "metadata": {
    "collapsed": true
   },
   "outputs": [],
   "source": [
    "newtext = open(\"C:/Users/Diego/Desktop/TFM/datasets/todojunto/text_in_lines_clean.txt\",\"w\",encoding=\"utf8\")"
   ]
  },
  {
   "cell_type": "code",
   "execution_count": 37,
   "metadata": {
    "collapsed": true
   },
   "outputs": [],
   "source": [
    "# for line in content:\n",
    "#     cleaned_line =''.join(filter(lambda x: x in printable, i))\n",
    "#     newtext.write(cleaned_line)\n",
    "#     cleaned_line = \"\""
   ]
  },
  {
   "cell_type": "code",
   "execution_count": null,
   "metadata": {
    "collapsed": true
   },
   "outputs": [],
   "source": [
    "strange_chars =[\"{\",\"}\",\"[\",\"]\",\" -\",\"- \",\"--\",\":\",\"*\",\"(\",\")\"]"
   ]
  },
  {
   "cell_type": "code",
   "execution_count": 61,
   "metadata": {
    "collapsed": true
   },
   "outputs": [],
   "source": [
    "for line in content:\n",
    "    aux_line = line.replace(\"&lt;\",\"\")\n",
    "    aux_line = aux_line.replace(\"&gt;\",\"\")\n",
    "    aux_line = aux_line.replace(\"&amp;\",\"\")\n",
    "    aux_line = aux_line.replace(\"#\",\"\")\n",
    "    aux_line = aux_line.replace(\"/\",\"\")\n",
    "    aux_line = aux_line.replace(\"/ i\",\"\")\n",
    "    aux_line = aux_line.replace(\"$\",\"\")\n",
    "    if ((aux_line[0]==\"i\") or (aux_line[0] == \"-\")):\n",
    "        \n",
    "        aux_line.lstrip(\"i\")\n",
    "        aux_line.lstrip(\"-\")\n",
    "        \n",
    "    if ((aux_line[len(aux_line)-2]==\" \") and (aux_line[len(aux_line)-1]==\"i\")):\n",
    "        \n",
    "        aux_line.rstrip(\"i\")\n",
    "        \n",
    "        \n",
    "    aux_line = aux_line.lstrip()\n",
    "    newtext.write(aux_line)"
   ]
  },
  {
   "cell_type": "code",
   "execution_count": 62,
   "metadata": {
    "collapsed": true
   },
   "outputs": [],
   "source": [
    "newtext.close()"
   ]
  },
  {
   "cell_type": "code",
   "execution_count": 34,
   "metadata": {
    "collapsed": true
   },
   "outputs": [],
   "source": [
    "s = \"-hHola hesto es prueba\""
   ]
  },
  {
   "cell_type": "code",
   "execution_count": 35,
   "metadata": {},
   "outputs": [
    {
     "name": "stdout",
     "output_type": "stream",
     "text": [
      "-hHola hesto es prueba\n"
     ]
    }
   ],
   "source": [
    "print(s.lstrip(\"h\"))"
   ]
  },
  {
   "cell_type": "code",
   "execution_count": 36,
   "metadata": {},
   "outputs": [
    {
     "name": "stdout",
     "output_type": "stream",
     "text": [
      "hHola hesto es prueba\n"
     ]
    }
   ],
   "source": [
    "print(s.lstrip(\"-\"))"
   ]
  }
 ],
 "metadata": {
  "kernelspec": {
   "display_name": "Python 3",
   "language": "python",
   "name": "python3"
  },
  "language_info": {
   "codemirror_mode": {
    "name": "ipython",
    "version": 3
   },
   "file_extension": ".py",
   "mimetype": "text/x-python",
   "name": "python",
   "nbconvert_exporter": "python",
   "pygments_lexer": "ipython3",
   "version": "3.6.1"
  }
 },
 "nbformat": 4,
 "nbformat_minor": 2
}
