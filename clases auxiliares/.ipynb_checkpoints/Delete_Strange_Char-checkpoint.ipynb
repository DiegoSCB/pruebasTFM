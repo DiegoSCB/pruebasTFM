{
 "cells": [
  {
   "cell_type": "code",
   "execution_count": 1,
   "metadata": {
    "collapsed": true
   },
   "outputs": [],
   "source": [
    "import string\n",
    "import html"
   ]
  },
  {
   "cell_type": "code",
   "execution_count": 178,
   "metadata": {
    "collapsed": true
   },
   "outputs": [],
   "source": [
    "text = open(\"C:/Users/Diego/Desktop/modificacion_datasets/vocab_mediano/vocab.en\",encoding=\"utf8\")"
   ]
  },
  {
   "cell_type": "code",
   "execution_count": 179,
   "metadata": {
    "collapsed": true
   },
   "outputs": [],
   "source": [
    "content = text.readlines()"
   ]
  },
  {
   "cell_type": "code",
   "execution_count": 180,
   "metadata": {
    "collapsed": true
   },
   "outputs": [],
   "source": [
    "newtext = open(\"C:/Users/Diego/Desktop/modificacion_datasets/vocab_mediano/prueba/vocab.en\",\"w\",encoding=\"utf8\")"
   ]
  },
  {
   "cell_type": "code",
   "execution_count": 37,
   "metadata": {
    "collapsed": true
   },
   "outputs": [],
   "source": [
    "# for line in content:\n",
    "#     cleaned_line =''.join(filter(lambda x: x in printable, i))\n",
    "#     newtext.write(cleaned_line)\n",
    "#     cleaned_line = \"\""
   ]
  },
  {
   "cell_type": "code",
   "execution_count": 170,
   "metadata": {
    "collapsed": true
   },
   "outputs": [],
   "source": [
    "strange_chars =[\"{\",\"}\",\"[\",\"]\",\" -\",\"- \",\"--\",\":\",\"*\",\"(\",\")\",\" --\",\"_\",\" _\",\"_ \",'\"',\"'\"]"
   ]
  },
  {
   "cell_type": "code",
   "execution_count": 181,
   "metadata": {
    "collapsed": true
   },
   "outputs": [],
   "source": [
    "for line in content:\n",
    "    aux_line = line.replace(\"&lt;\",\"\")\n",
    "    aux_line = aux_line.replace(\"&gt;\",\"\")\n",
    "    aux_line = aux_line.replace(\"&amp;\",\"\")\n",
    "    aux_line = aux_line.replace(\"#\",\"\")\n",
    "    aux_line = aux_line.replace(\"/\",\"\")\n",
    "    aux_line = aux_line.replace(\"/ i\",\"\")\n",
    "    aux_line = aux_line.replace(\"$\",\"\")\n",
    "    #aux_line = aux_line.replace(\"{\",\"\")\n",
    "    #aux_line = aux_line.replace(\"}\",\"\")\n",
    "    \n",
    "    if ((aux_line[0]==\"i\") or (aux_line[0] == \"-\")):\n",
    "        \n",
    "        aux_line.lstrip(\"i\")\n",
    "        aux_line.lstrip(\"-\")\n",
    "        \n",
    "    if ((aux_line[len(aux_line)-2]==\" \") and (aux_line[len(aux_line)-1]==\"i\")):\n",
    "        \n",
    "        aux_line.rstrip(\"i\")\n",
    "        \n",
    "        \n",
    "    aux_line = aux_line.lstrip()\n",
    "    result = ''.join([i for i in aux_line if not i.isdigit()])\n",
    "    #result2 = ''.join([x for x in result if x not in strange_chars])\n",
    "    final_result = result\n",
    "    #final_result = final_result.strip()\n",
    "    if not(final_result==\"\"):\n",
    "        if not(final_result[0]==\".\"):\n",
    "            newtext.write(final_result)\n",
    "   "
   ]
  },
  {
   "cell_type": "code",
   "execution_count": 182,
   "metadata": {
    "collapsed": true
   },
   "outputs": [],
   "source": [
    "newtext.close()\n",
    "text.close()"
   ]
  },
  {
   "cell_type": "code",
   "execution_count": 120,
   "metadata": {
    "collapsed": true
   },
   "outputs": [],
   "source": [
    "ch = \" \""
   ]
  },
  {
   "cell_type": "code",
   "execution_count": 109,
   "metadata": {},
   "outputs": [
    {
     "data": {
      "text/plain": [
       "' '"
      ]
     },
     "execution_count": 109,
     "metadata": {},
     "output_type": "execute_result"
    }
   ],
   "source": [
    "ch"
   ]
  },
  {
   "cell_type": "code",
   "execution_count": 122,
   "metadata": {
    "collapsed": true
   },
   "outputs": [],
   "source": [
    "ch = ch.strip()"
   ]
  },
  {
   "cell_type": "code",
   "execution_count": 123,
   "metadata": {},
   "outputs": [
    {
     "data": {
      "text/plain": [
       "True"
      ]
     },
     "execution_count": 123,
     "metadata": {},
     "output_type": "execute_result"
    }
   ],
   "source": [
    "ch ==\"\""
   ]
  }
 ],
 "metadata": {
  "kernelspec": {
   "display_name": "Python 3",
   "language": "python",
   "name": "python3"
  },
  "language_info": {
   "codemirror_mode": {
    "name": "ipython",
    "version": 3
   },
   "file_extension": ".py",
   "mimetype": "text/x-python",
   "name": "python",
   "nbconvert_exporter": "python",
   "pygments_lexer": "ipython3",
   "version": "3.6.1"
  }
 },
 "nbformat": 4,
 "nbformat_minor": 2
}
