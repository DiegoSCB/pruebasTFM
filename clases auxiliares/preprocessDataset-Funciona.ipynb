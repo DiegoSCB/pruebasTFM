{
 "cells": [
  {
   "cell_type": "markdown",
   "metadata": {},
   "source": [
    "# Way to eliminate xml tags"
   ]
  },
  {
   "cell_type": "code",
   "execution_count": null,
   "metadata": {
    "collapsed": true
   },
   "outputs": [],
   "source": [
    "text = re.sub('<[^<]+>', \"\", open(\"C:/Users/Diego/Desktop/TFM/datasets/todojunto/todo.xml\",encoding=\"utf8\").read())\n",
    "with open(\"C:/Users/Diego/Desktop/TFM/datasets/todojunto/todo.xml\", \"w\") as f:\n",
    "    f.write(text)"
   ]
  },
  {
   "cell_type": "code",
   "execution_count": 1,
   "metadata": {
    "collapsed": true
   },
   "outputs": [],
   "source": [
    "import re\n",
    "import fileinput\n",
    "import glob\n",
    "import sys"
   ]
  },
  {
   "cell_type": "code",
   "execution_count": 16,
   "metadata": {
    "collapsed": true
   },
   "outputs": [],
   "source": [
    "texto = open(\"C:/Users/Diego/Desktop/TFM/datasets/todojunto/todo.xml\",encoding=\"utf8\",errors='ignore')"
   ]
  },
  {
   "cell_type": "code",
   "execution_count": 17,
   "metadata": {
    "collapsed": true
   },
   "outputs": [],
   "source": [
    "contenido = texto.readlines()"
   ]
  },
  {
   "cell_type": "code",
   "execution_count": 24,
   "metadata": {
    "collapsed": true
   },
   "outputs": [],
   "source": [
    "texto.close()"
   ]
  },
  {
   "cell_type": "code",
   "execution_count": 19,
   "metadata": {
    "collapsed": true
   },
   "outputs": [],
   "source": [
    "linea = []"
   ]
  },
  {
   "cell_type": "code",
   "execution_count": 20,
   "metadata": {
    "collapsed": true
   },
   "outputs": [],
   "source": [
    "text_in_lines = open(\"C:/Users/Diego/Desktop/TFM/datasets/todojunto/text_in_lines.txt\",\"w\",encoding=\"utf8\")"
   ]
  },
  {
   "cell_type": "code",
   "execution_count": 21,
   "metadata": {
    "collapsed": true
   },
   "outputs": [],
   "source": [
    "three_points = 0"
   ]
  },
  {
   "cell_type": "code",
   "execution_count": 22,
   "metadata": {
    "collapsed": true,
    "scrolled": false
   },
   "outputs": [],
   "source": [
    "for line in contenido:\n",
    "    line = line.strip()\n",
    "    if line == \"...\":\n",
    "        three_points = 1\n",
    "        #print(\"detected point\")\n",
    "        #print(points_counter)\n",
    "        #print(linea)\n",
    "    if (len(line)>0):\n",
    "        linea.append(line)\n",
    "    if ((len(line) == 0) and (three_points == 1)):\n",
    "        if linea:\n",
    "            #print(\"esta es la lista antes de los remove\")\n",
    "            #print(linea)\n",
    "            linea.reverse()\n",
    "            linea.remove('...')\n",
    "            linea.reverse()\n",
    "            #print(\"esta es la lista despues de los remove\")\n",
    "            #print(linea)\n",
    "            sentence = \" \".join(linea)\n",
    "            text_in_lines.write(sentence+' ')\n",
    "            sentence = \"\"\n",
    "            linea =[]\n",
    "            three_points = 0\n",
    "    if len(line) == 0:\n",
    "        if linea:\n",
    "            #print(\"paso por aqui\")\n",
    "            sentence = \" \".join(linea)\n",
    "            text_in_lines.write(sentence+'\\n')\n",
    "            sentence = \"\"\n",
    "            linea =[]\n",
    "            three_points = 0"
   ]
  },
  {
   "cell_type": "code",
   "execution_count": 25,
   "metadata": {
    "collapsed": true
   },
   "outputs": [],
   "source": [
    "text_in_lines.close()"
   ]
  },
  {
   "cell_type": "code",
   "execution_count": 13,
   "metadata": {
    "collapsed": true
   },
   "outputs": [],
   "source": [
    "text_in_lines = open(\"C:/Users/Diego/Desktop/TFM/datasets/todojunto/text_in_lines.txt\",encoding=\"utf8\")"
   ]
  },
  {
   "cell_type": "code",
   "execution_count": 14,
   "metadata": {
    "scrolled": true
   },
   "outputs": [
    {
     "ename": "UnsupportedOperation",
     "evalue": "not readable",
     "output_type": "error",
     "traceback": [
      "\u001b[1;31m---------------------------------------------------------------------------\u001b[0m",
      "\u001b[1;31mUnsupportedOperation\u001b[0m                      Traceback (most recent call last)",
      "\u001b[1;32m<ipython-input-14-8b1fc2bdd8db>\u001b[0m in \u001b[0;36m<module>\u001b[1;34m()\u001b[0m\n\u001b[1;32m----> 1\u001b[1;33m \u001b[0mfinal_content\u001b[0m \u001b[1;33m=\u001b[0m \u001b[0mtext_in_lines\u001b[0m\u001b[1;33m.\u001b[0m\u001b[0mreadlines\u001b[0m\u001b[1;33m(\u001b[0m\u001b[1;36m100\u001b[0m\u001b[1;33m)\u001b[0m\u001b[1;33m\u001b[0m\u001b[0m\n\u001b[0m",
      "\u001b[1;31mUnsupportedOperation\u001b[0m: not readable"
     ]
    }
   ],
   "source": [
    "final_content = text_in_lines.readlines(100)"
   ]
  }
 ],
 "metadata": {
  "kernelspec": {
   "display_name": "Python 3",
   "language": "python",
   "name": "python3"
  },
  "language_info": {
   "codemirror_mode": {
    "name": "ipython",
    "version": 3
   },
   "file_extension": ".py",
   "mimetype": "text/x-python",
   "name": "python",
   "nbconvert_exporter": "python",
   "pygments_lexer": "ipython3",
   "version": "3.6.1"
  }
 },
 "nbformat": 4,
 "nbformat_minor": 2
}
