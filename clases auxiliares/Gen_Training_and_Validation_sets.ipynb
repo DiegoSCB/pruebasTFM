{
 "cells": [
  {
   "cell_type": "code",
   "execution_count": 9,
   "metadata": {
    "collapsed": true
   },
   "outputs": [],
   "source": [
    "import re"
   ]
  },
  {
   "cell_type": "code",
   "execution_count": 11,
   "metadata": {
    "scrolled": true
   },
   "outputs": [],
   "source": [
    "text = re.sub('$', \"\", open(\"C:/Users/Diego/Desktop/TFM/datasets/todojunto/text_in_lines.txt\",encoding=\"utf8\").read())\n",
    "with open(\"C:/Users/Diego/Desktop/TFM/datasets/todojunto/text_in_lines_without_dash.txt\", \"w\",encoding=\"utf8\") as f:\n",
    "    f.write(text)"
   ]
  },
  {
   "cell_type": "code",
   "execution_count": null,
   "metadata": {
    "collapsed": true
   },
   "outputs": [],
   "source": [
    "#utilizamos el dataset sin dash"
   ]
  },
  {
   "cell_type": "code",
   "execution_count": 2,
   "metadata": {},
   "outputs": [],
   "source": [
    "texto = open(\"C:/Users/Diego/Desktop/TFM/datasets/todojunto/text_in_lines_clean.txt\",encoding=\"utf8\")"
   ]
  },
  {
   "cell_type": "code",
   "execution_count": 3,
   "metadata": {},
   "outputs": [],
   "source": [
    "content = texto.readlines()"
   ]
  },
  {
   "cell_type": "code",
   "execution_count": 4,
   "metadata": {
    "collapsed": true
   },
   "outputs": [],
   "source": [
    "texto.close()"
   ]
  },
  {
   "cell_type": "code",
   "execution_count": 5,
   "metadata": {},
   "outputs": [],
   "source": [
    "training_set = open(\"C:/Users/Diego/Desktop/TFM/datasets/todojunto/training_set.txt\",\"w\",encoding=\"utf8\")"
   ]
  },
  {
   "cell_type": "code",
   "execution_count": 6,
   "metadata": {
    "collapsed": true
   },
   "outputs": [],
   "source": [
    "validation_set = open(\"C:/Users/Diego/Desktop/TFM/datasets/todojunto/validation_set.txt\",\"w\",encoding=\"utf8\")"
   ]
  },
  {
   "cell_type": "code",
   "execution_count": null,
   "metadata": {
    "collapsed": true
   },
   "outputs": [],
   "source": [
    "#6 frases al training 2 al validation"
   ]
  },
  {
   "cell_type": "code",
   "execution_count": 29,
   "metadata": {
    "collapsed": true
   },
   "outputs": [],
   "source": [
    "\n",
    "\n",
    "#comprobacion = open(\"C:/Users/Diego/Desktop/TFM/datasets/todojunto/comprobacion.txt\", \"w\",encoding=\"utf8\")"
   ]
  },
  {
   "cell_type": "code",
   "execution_count": null,
   "metadata": {
    "scrolled": true
   },
   "outputs": [],
   "source": [
    "\n",
    "# for line in content:\n",
    "#     comprobacion.write(line)\n",
    "#     print(\"linea: \",six)\n",
    "#     print(line)\n",
    "    "
   ]
  },
  {
   "cell_type": "code",
   "execution_count": 34,
   "metadata": {
    "collapsed": true
   },
   "outputs": [],
   "source": [
    "# comprobacion.close()"
   ]
  },
  {
   "cell_type": "code",
   "execution_count": 7,
   "metadata": {
    "collapsed": true
   },
   "outputs": [],
   "source": [
    "six = 0\n",
    "lock = False\n",
    "lock2 = False"
   ]
  },
  {
   "cell_type": "code",
   "execution_count": 8,
   "metadata": {},
   "outputs": [],
   "source": [
    "for line in content:\n",
    "    if ((six < 6) and (not lock) ):\n",
    "        training_set.write(line)\n",
    "        six = six + 1\n",
    "    if ((six == 6) and (not lock2)):\n",
    "        six = 5\n",
    "        lock2 = True\n",
    "    if lock:\n",
    "        validation_set.write(line)\n",
    "        six = 0\n",
    "        lock = False\n",
    "    if six == 6:\n",
    "        validation_set.write(line)\n",
    "        lock = True\n",
    "        six = 0\n",
    "        lock2 = False\n",
    "    if lock2:\n",
    "        six = 6"
   ]
  },
  {
   "cell_type": "code",
   "execution_count": 9,
   "metadata": {
    "collapsed": true
   },
   "outputs": [],
   "source": [
    "validation_set.close()\n",
    "training_set.close()"
   ]
  }
 ],
 "metadata": {
  "kernelspec": {
   "display_name": "Python 3",
   "language": "python",
   "name": "python3"
  },
  "language_info": {
   "codemirror_mode": {
    "name": "ipython",
    "version": 3
   },
   "file_extension": ".py",
   "mimetype": "text/x-python",
   "name": "python",
   "nbconvert_exporter": "python",
   "pygments_lexer": "ipython3",
   "version": "3.6.1"
  }
 },
 "nbformat": 4,
 "nbformat_minor": 2
}
